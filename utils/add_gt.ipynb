{
 "cells": [
  {
   "cell_type": "code",
   "execution_count": 1,
   "metadata": {},
   "outputs": [
    {
     "name": "stdout",
     "output_type": "stream",
     "text": [
      "2050\n"
     ]
    }
   ],
   "source": [
    "import json\n",
    "import os\n",
    "\n",
    "data_path = \"/Users/czy/projects/baohuchu_demo/data/test_data/1049个训练样本-1016_20250306_114145_04171bef2b50213a.json\"\n",
    "\n",
    "with open(data_path, \"r\") as f:\n",
    "    data = json.load(f)\n",
    "print(len(data))"
   ]
  },
  {
   "cell_type": "code",
   "execution_count": 6,
   "metadata": {},
   "outputs": [],
   "source": [
    "def generate_instruction(input_data: dict) -> dict:\n",
    "    # 必需字段\n",
    "    required_fields = ['line_name', 'error_wave_one_cycle_ago', 'error_wave_one_cycle_after', \n",
    "                       'error_again_wave_one_cycle_after', 'protect_recover', 'gt']\n",
    "    \n",
    "    # 验证输入数据是否包含必需的字段\n",
    "    for field in required_fields:\n",
    "        if field not in input_data:\n",
    "            raise ValueError(f\"缺少必要的字段: {field}\")\n",
    "\n",
    "    # 提取数据到变量中\n",
    "    line_name = input_data['line_name']\n",
    "    error_wave_one_cycle_ago = input_data['error_wave_one_cycle_ago']\n",
    "    error_wave_one_cycle_after = input_data['error_wave_one_cycle_after']\n",
    "    error_again_wave_one_cycle_after = input_data['error_again_wave_one_cycle_after']\n",
    "    protect_recover = input_data['protect_recover']\n",
    "    fault_type = input_data['gt']\n",
    "\n",
    "    # 生成input字段的内容\n",
    "    input_value = (f\"线路名称：{line_name}；故障前一周波模拟值：{error_wave_one_cycle_ago}；\"\n",
    "                   f\"故障后一周波模拟值：{error_wave_one_cycle_after}；再次故障后一周波模拟值：{error_again_wave_one_cycle_after}；\"\n",
    "                   f\"重合闸数量：{len(protect_recover)}套。请用json形式给出重合闸小结、分析结论和故障分类。\")\n",
    "\n",
    "    # 数值分析\n",
    "    def analyze_values(wave_before, wave_after):\n",
    "        Ia_change = abs(float(wave_after['Ia']) - float(wave_before['Ia']))\n",
    "        Ib_change = abs(float(wave_after['Ib']) - float(wave_before['Ib']))\n",
    "        Ic_change = abs(float(wave_after['Ic']) - float(wave_before['Ic']))\n",
    "        U0_after = float(wave_after['U0'])\n",
    "        I0_after = float(wave_after['I0'])\n",
    "\n",
    "        # 判断故障相\n",
    "        fault_phase = None\n",
    "        if Ia_change > 5 * Ib_change and Ia_change > 5 * Ic_change:\n",
    "            fault_phase = 'A'\n",
    "        elif Ib_change > 5 * Ia_change and Ib_change > 5 * Ic_change:\n",
    "            fault_phase = 'B'\n",
    "        elif Ic_change > 5 * Ia_change and Ic_change > 5 * Ib_change:\n",
    "            fault_phase = 'C'\n",
    "\n",
    "        # 分析结论\n",
    "        analysis_conclusion = (f\"故障时零序电压大于5V，仅有{fault_phase}相电压小于55V，\"\n",
    "                               f\"{fault_phase}相电流变化量大于B、C相电流变化量的5倍，零序电流大于1A，符合{fault_phase}相接地故障特征，\"\n",
    "                               f\"{line_name}发生{fault_phase}相接地故障。\")\n",
    "        \n",
    "        return {\n",
    "            \"analysis_conclusion\": analysis_conclusion,\n",
    "            \"fault_phase\": fault_phase,\n",
    "            \"U0_after\": U0_after,\n",
    "            \"I0_after\": I0_after\n",
    "        }\n",
    "\n",
    "    analysis_result = analyze_values(error_wave_one_cycle_ago, error_wave_one_cycle_after)\n",
    "\n",
    "    # 构建output字段的内容\n",
    "    output_value = {\n",
    "        '重合闸小结': (f\"{len(protect_recover)}套保护重合闸动作，重合后三相电压均大于55V，零序电压小于5V，\"\n",
    "                    f\"重合后故障消失，重合成功。\"),\n",
    "        '分析结论': analysis_result[\"analysis_conclusion\"],\n",
    "        '故障分类': fault_type\n",
    "    }\n",
    "\n",
    "    # 返回最终结果\n",
    "    output_data = {\n",
    "        'input': input_value,\n",
    "        'output': str(output_value),\n",
    "    }\n",
    "    return output_data"
   ]
  },
  {
   "cell_type": "code",
   "execution_count": 7,
   "metadata": {},
   "outputs": [
    {
     "data": {
      "text/plain": [
       "2050"
      ]
     },
     "execution_count": 7,
     "metadata": {},
     "output_type": "execute_result"
    }
   ],
   "source": [
    "import json\n",
    "\n",
    "data_path = '/Users/czy/projects/baohuchu_demo/data/test_data/1049个训练样本-1016_20250324_180309_ce79e70008f87ff1.json'\n",
    "with open(data_path, \"r\") as f:\n",
    "    data_list = json.load(f) \n",
    "\n",
    "len(data_list)"
   ]
  },
  {
   "cell_type": "code",
   "execution_count": 13,
   "metadata": {},
   "outputs": [
    {
     "ename": "TypeError",
     "evalue": "'int' object is not callable",
     "output_type": "error",
     "traceback": [
      "\u001b[0;31m---------------------------------------------------------------------------\u001b[0m",
      "\u001b[0;31mTypeError\u001b[0m                                 Traceback (most recent call last)",
      "Cell \u001b[0;32mIn[13], line 3\u001b[0m\n\u001b[1;32m      1\u001b[0m \u001b[38;5;28mlen\u001b[39m\u001b[38;5;241m=\u001b[39m\u001b[38;5;241m50\u001b[39m\n\u001b[1;32m      2\u001b[0m \u001b[38;5;28;01mfor\u001b[39;00m data \u001b[38;5;129;01min\u001b[39;00m data_list[\u001b[38;5;241m1800\u001b[39m:\u001b[38;5;241m1800\u001b[39m\u001b[38;5;241m+\u001b[39m\u001b[38;5;28mlen\u001b[39m]:\n\u001b[0;32m----> 3\u001b[0m     output_data \u001b[38;5;241m=\u001b[39m \u001b[43mgenerate_instruction\u001b[49m\u001b[43m(\u001b[49m\u001b[43mdata\u001b[49m\u001b[43m)\u001b[49m\n\u001b[1;32m      4\u001b[0m     \u001b[38;5;28mprint\u001b[39m(output_data)\n",
      "Cell \u001b[0;32mIn[6], line 22\u001b[0m, in \u001b[0;36mgenerate_instruction\u001b[0;34m(input_data)\u001b[0m\n\u001b[1;32m     17\u001b[0m fault_type \u001b[38;5;241m=\u001b[39m input_data[\u001b[38;5;124m'\u001b[39m\u001b[38;5;124mgt\u001b[39m\u001b[38;5;124m'\u001b[39m]\n\u001b[1;32m     19\u001b[0m \u001b[38;5;66;03m# 生成input字段的内容\u001b[39;00m\n\u001b[1;32m     20\u001b[0m input_value \u001b[38;5;241m=\u001b[39m (\u001b[38;5;124mf\u001b[39m\u001b[38;5;124m\"\u001b[39m\u001b[38;5;124m线路名称：\u001b[39m\u001b[38;5;132;01m{\u001b[39;00mline_name\u001b[38;5;132;01m}\u001b[39;00m\u001b[38;5;124m；故障前一周波模拟值：\u001b[39m\u001b[38;5;132;01m{\u001b[39;00merror_wave_one_cycle_ago\u001b[38;5;132;01m}\u001b[39;00m\u001b[38;5;124m；\u001b[39m\u001b[38;5;124m\"\u001b[39m\n\u001b[1;32m     21\u001b[0m                \u001b[38;5;124mf\u001b[39m\u001b[38;5;124m\"\u001b[39m\u001b[38;5;124m故障后一周波模拟值：\u001b[39m\u001b[38;5;132;01m{\u001b[39;00merror_wave_one_cycle_after\u001b[38;5;132;01m}\u001b[39;00m\u001b[38;5;124m；再次故障后一周波模拟值：\u001b[39m\u001b[38;5;132;01m{\u001b[39;00merror_again_wave_one_cycle_after\u001b[38;5;132;01m}\u001b[39;00m\u001b[38;5;124m；\u001b[39m\u001b[38;5;124m\"\u001b[39m\n\u001b[0;32m---> 22\u001b[0m                \u001b[38;5;124mf\u001b[39m\u001b[38;5;124m\"\u001b[39m\u001b[38;5;124m重合闸数量：\u001b[39m\u001b[38;5;132;01m{\u001b[39;00m\u001b[38;5;28;43mlen\u001b[39;49m\u001b[43m(\u001b[49m\u001b[43mprotect_recover\u001b[49m\u001b[43m)\u001b[49m\u001b[38;5;132;01m}\u001b[39;00m\u001b[38;5;124m套。请用json形式给出重合闸小结、分析结论和故障分类。\u001b[39m\u001b[38;5;124m\"\u001b[39m)\n\u001b[1;32m     24\u001b[0m \u001b[38;5;66;03m# 数值分析\u001b[39;00m\n\u001b[1;32m     25\u001b[0m \u001b[38;5;28;01mdef\u001b[39;00m \u001b[38;5;21manalyze_values\u001b[39m(wave_before, wave_after):\n",
      "\u001b[0;31mTypeError\u001b[0m: 'int' object is not callable"
     ]
    }
   ],
   "source": [
    "len=50\n",
    "for data in data_list[1800:1800+len]:\n",
    "    output_data = generate_instruction(data)\n",
    "    print(output_data)"
   ]
  },
  {
   "cell_type": "code",
   "execution_count": 3,
   "metadata": {},
   "outputs": [
    {
     "name": "stdout",
     "output_type": "stream",
     "text": [
      "已转换 12 条记录到 /Users/czy/projects/baohuchu_demo/data/test_data/few_shot_data.jsonl\n",
      "文件共有 12 行\n",
      "\n",
      "第 1 行数据示例:\n",
      "故障类型: C相接地故障\n",
      "线路名称: 220kV新温线\n",
      "变电站: 温水站\n",
      "\n",
      "第 2 行数据示例:\n",
      "故障类型: BC相间短路故障\n",
      "线路名称: 220kV沂祖Ⅰ线\n",
      "变电站: 孙祖站\n"
     ]
    }
   ],
   "source": [
    "import json\n",
    "\n",
    "def flatten_and_convert_to_jsonl(data, output_file):\n",
    "    \"\"\"\n",
    "    将嵌套的故障数据转换为JSONL格式\n",
    "    \n",
    "    Args:\n",
    "        data: 输入的嵌套字典数据\n",
    "        output_file: 输出的JSONL文件路径\n",
    "    \"\"\"\n",
    "    flattened_data = []\n",
    "    \n",
    "    # 遍历每种故障类型\n",
    "    for fault_type, fault_cases in data.items():\n",
    "        # 遍历该故障类型下的所有案例\n",
    "        for case_list in fault_cases:\n",
    "            for case in case_list:\n",
    "                # 提取内容并添加故障类型\n",
    "                if 'content' in case:\n",
    "                    entry = case['content']\n",
    "                else:\n",
    "                    entry = case\n",
    "                    \n",
    "                # 添加额外的元数据\n",
    "                entry['fault_type'] = fault_type\n",
    "                if 'file_path' in case:\n",
    "                    entry['file_path'] = case['file_path']\n",
    "                \n",
    "                flattened_data.append(entry)\n",
    "    \n",
    "    # 写入JSONL文件\n",
    "    with open(output_file, 'w', encoding='utf-8') as f:\n",
    "        for entry in flattened_data:\n",
    "            json_line = json.dumps(entry, ensure_ascii=False)\n",
    "            f.write(json_line + '\\n')\n",
    "    \n",
    "    return len(flattened_data)\n",
    "\n",
    "# 使用示例\n",
    "input_data_dir = '/Users/czy/projects/baohuchu_demo/data/test_data/few_shot_data.json'  # 您的输入数据\n",
    "with open(input_data_dir, 'r', encoding='utf-8') as f:\n",
    "    input_data = json.load(f)\n",
    "    \n",
    "output_file = '/Users/czy/projects/baohuchu_demo/data/test_data/few_shot_data.jsonl'\n",
    "num_entries = flatten_and_convert_to_jsonl(input_data, output_file)\n",
    "print(f\"已转换 {num_entries} 条记录到 {output_file}\")\n",
    "\n",
    "# 验证转换结果\n",
    "def verify_jsonl(file_path):\n",
    "    \"\"\"验证JSONL文件的内容\"\"\"\n",
    "    with open(file_path, 'r', encoding='utf-8') as f:\n",
    "        lines = f.readlines()\n",
    "        print(f\"文件共有 {len(lines)} 行\")\n",
    "        \n",
    "        # 检查前两行的内容\n",
    "        for i, line in enumerate(lines[:2]):\n",
    "            try:\n",
    "                data = json.loads(line)\n",
    "                print(f\"\\n第 {i+1} 行数据示例:\")\n",
    "                print(f\"故障类型: {data.get('fault_type')}\")\n",
    "                print(f\"线路名称: {data.get('line_name')}\")\n",
    "                print(f\"变电站: {data.get('station_name')}\")\n",
    "            except json.JSONDecodeError as e:\n",
    "                print(f\"第 {i+1} 行解析错误: {e}\")\n",
    "\n",
    "# 验证转换结果\n",
    "verify_jsonl(output_file)"
   ]
  }
 ],
 "metadata": {
  "kernelspec": {
   "display_name": "py310_crawler",
   "language": "python",
   "name": "python3"
  },
  "language_info": {
   "codemirror_mode": {
    "name": "ipython",
    "version": 3
   },
   "file_extension": ".py",
   "mimetype": "text/x-python",
   "name": "python",
   "nbconvert_exporter": "python",
   "pygments_lexer": "ipython3",
   "version": "3.10.16"
  }
 },
 "nbformat": 4,
 "nbformat_minor": 2
}
